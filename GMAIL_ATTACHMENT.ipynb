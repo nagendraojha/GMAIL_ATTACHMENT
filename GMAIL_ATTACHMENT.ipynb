{
 "cells": [
  {
   "cell_type": "code",
   "execution_count": 20,
   "id": "599446bf-fba4-46c5-afd6-084db5b3e5fe",
   "metadata": {},
   "outputs": [],
   "source": [
    "# pip install EZGmail"
   ]
  },
  {
   "cell_type": "code",
   "execution_count": null,
   "id": "611cc3a0-96d1-4668-9e30-4e0f532dbe57",
   "metadata": {},
   "outputs": [],
   "source": []
  },
  {
   "cell_type": "code",
   "execution_count": null,
   "id": "68b93d40-72df-4c6f-86b8-3833a30c089b",
   "metadata": {},
   "outputs": [],
   "source": []
  },
  {
   "cell_type": "code",
   "execution_count": null,
   "id": "17dd0a4c-4e03-40a0-8f1e-d7d893532742",
   "metadata": {},
   "outputs": [],
   "source": []
  },
  {
   "cell_type": "code",
   "execution_count": 22,
   "id": "8e2d3423-68e4-4a28-83e2-01a2cfbafcf7",
   "metadata": {},
   "outputs": [],
   "source": [
    "# import ezgmail\n",
    "# ezgmail.init()\n",
    "\n"
   ]
  },
  {
   "cell_type": "code",
   "execution_count": null,
   "id": "3963d0bf-cd55-4b9c-92a6-c4463ed939f1",
   "metadata": {},
   "outputs": [],
   "source": []
  },
  {
   "cell_type": "code",
   "execution_count": null,
   "id": "bd8c5c7e-5a72-49fa-a6a4-1ce953b2ea41",
   "metadata": {},
   "outputs": [],
   "source": []
  },
  {
   "cell_type": "code",
   "execution_count": 16,
   "id": "741ac0c2-ac9f-4b7a-9697-231d3c0930c6",
   "metadata": {},
   "outputs": [
    {
     "name": "stdin",
     "output_type": "stream",
     "text": [
      "🔎 Enter search query:  munish\n"
     ]
    },
    {
     "name": "stdout",
     "output_type": "stream",
     "text": [
      "\n",
      "📬 Result(s) with attachments found:\n",
      "\n",
      "📩 Email Subject: Call for Papers for 6th International Conference on Mobile Radio Communication & 5G Networks -2025 (6th in series ) 22nd-23rd August-2025\n",
      "📩 Email Subject: Paper ID: ICPCSN-955,Final Submission\n",
      "📩 Email Subject: Final Paper Submission: Multimodal Deep Transfer Learning with CNN-LSTM Fusion for Enhanced Forest Fire Detection and Risk Prediction\n",
      "📩 Email Subject: ICPCSN 2025 Acceptance Letter 955\n",
      "📩 Email Subject: Submission of Paper For the Conference\n",
      "📩 Email Subject: PPT submission, title: A Review of Machine Learning for Sustainable Agriculture: Predicting Rainfall and Crop Yield\n"
     ]
    },
    {
     "name": "stdin",
     "output_type": "stream",
     "text": [
      "\n",
      "💾 Do you want to download these attachments? (Yes/No):  no\n"
     ]
    },
    {
     "name": "stdout",
     "output_type": "stream",
     "text": [
      "🛑 Download canceled by user.\n"
     ]
    }
   ],
   "source": [
    "import ezgmail\n",
    "\n",
    "# Initialize Gmail with your credentials JSON file only if needed (once)\n",
    "# ezgmail.init(r'C:\\Users\\nagen\\credentials-sheets.json')\n",
    "\n",
    "\n",
    "def attachmentdownload(result_threads):\n",
    "    \"\"\"\n",
    "    Downloads all attachments from the given Gmail threads.\n",
    "    Each thread may contain multiple messages.\n",
    "    \"\"\"\n",
    "    try:\n",
    "        for thread in result_threads:\n",
    "            for message in thread.messages:\n",
    "                message.downloadAllAttachments()\n",
    "        print(\"✅ Download complete. Please check your Downloads or working directory.\")\n",
    "    except Exception as e:\n",
    "        print(\"❌ Error occurred while downloading attachments:\", e)\n",
    "\n",
    "\n",
    "if __name__ == '__main__':\n",
    "    query = input(\"🔎 Enter search query: \")\n",
    "    \n",
    "    # Ensure we only get results with attachments\n",
    "    new_query = query + \" has:attachment\"\n",
    "    \n",
    "    # Search Gmail\n",
    "    result_threads = ezgmail.search(new_query)\n",
    "\n",
    "    if not result_threads:\n",
    "        print(\"❌ No results with attachments found.\")\n",
    "    else:\n",
    "        print(\"\\n📬 Result(s) with attachments found:\\n\")\n",
    "        for thread in result_threads:\n",
    "            print(f\"📩 Email Subject: {thread.messages[0].subject}\")\n",
    "        \n",
    "        # Ask the user whether to download\n",
    "        ask = input(\"\\n💾 Do you want to download these attachments? (Yes/No): \").strip().lower()\n",
    "        if ask == \"yes\":\n",
    "            attachmentdownload(result_threads)\n",
    "        else:\n",
    "            print(\"🛑 Download canceled by user.\")\n"
   ]
  },
  {
   "cell_type": "code",
   "execution_count": null,
   "id": "c6bbb61e-d98c-40d5-b4d9-7da8bca10278",
   "metadata": {},
   "outputs": [],
   "source": []
  }
 ],
 "metadata": {
  "kernelspec": {
   "display_name": "Python [conda env:base] *",
   "language": "python",
   "name": "conda-base-py"
  },
  "language_info": {
   "codemirror_mode": {
    "name": "ipython",
    "version": 3
   },
   "file_extension": ".py",
   "mimetype": "text/x-python",
   "name": "python",
   "nbconvert_exporter": "python",
   "pygments_lexer": "ipython3",
   "version": "3.12.7"
  }
 },
 "nbformat": 4,
 "nbformat_minor": 5
}
